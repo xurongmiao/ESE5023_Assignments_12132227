{
 "cells": [
  {
   "cell_type": "code",
   "execution_count": 19,
   "id": "d4d1f9e2",
   "metadata": {},
   "outputs": [
    {
     "data": {
      "text/html": [
       "<div>\n",
       "<style scoped>\n",
       "    .dataframe tbody tr th:only-of-type {\n",
       "        vertical-align: middle;\n",
       "    }\n",
       "\n",
       "    .dataframe tbody tr th {\n",
       "        vertical-align: top;\n",
       "    }\n",
       "\n",
       "    .dataframe thead th {\n",
       "        text-align: right;\n",
       "    }\n",
       "</style>\n",
       "<table border=\"1\" class=\"dataframe\">\n",
       "  <thead>\n",
       "    <tr style=\"text-align: right;\">\n",
       "      <th></th>\n",
       "      <th>Year</th>\n",
       "      <th>A-Production</th>\n",
       "      <th>A-Released</th>\n",
       "      <th>T-Production</th>\n",
       "      <th>T-Released</th>\n",
       "      <th>T-Unreleased</th>\n",
       "    </tr>\n",
       "  </thead>\n",
       "  <tbody>\n",
       "    <tr>\n",
       "      <th>0</th>\n",
       "      <td>1931</td>\n",
       "      <td>NaN</td>\n",
       "      <td>NaN</td>\n",
       "      <td>NaN</td>\n",
       "      <td>NaN</td>\n",
       "      <td>NaN</td>\n",
       "    </tr>\n",
       "    <tr>\n",
       "      <th>1</th>\n",
       "      <td>1932</td>\n",
       "      <td>NaN</td>\n",
       "      <td>NaN</td>\n",
       "      <td>NaN</td>\n",
       "      <td>NaN</td>\n",
       "      <td>NaN</td>\n",
       "    </tr>\n",
       "    <tr>\n",
       "      <th>2</th>\n",
       "      <td>1933</td>\n",
       "      <td>NaN</td>\n",
       "      <td>NaN</td>\n",
       "      <td>NaN</td>\n",
       "      <td>NaN</td>\n",
       "      <td>NaN</td>\n",
       "    </tr>\n",
       "    <tr>\n",
       "      <th>3</th>\n",
       "      <td>1934</td>\n",
       "      <td>NaN</td>\n",
       "      <td>NaN</td>\n",
       "      <td>NaN</td>\n",
       "      <td>NaN</td>\n",
       "      <td>NaN</td>\n",
       "    </tr>\n",
       "    <tr>\n",
       "      <th>4</th>\n",
       "      <td>1935</td>\n",
       "      <td>0.0</td>\n",
       "      <td>0.0</td>\n",
       "      <td>0.1</td>\n",
       "      <td>0.0</td>\n",
       "      <td>0.1</td>\n",
       "    </tr>\n",
       "    <tr>\n",
       "      <th>...</th>\n",
       "      <td>...</td>\n",
       "      <td>...</td>\n",
       "      <td>...</td>\n",
       "      <td>...</td>\n",
       "      <td>...</td>\n",
       "      <td>...</td>\n",
       "    </tr>\n",
       "    <tr>\n",
       "      <th>68</th>\n",
       "      <td>1999</td>\n",
       "      <td>13.1</td>\n",
       "      <td>48.3</td>\n",
       "      <td>8814.4</td>\n",
       "      <td>7867.0</td>\n",
       "      <td>947.4</td>\n",
       "    </tr>\n",
       "    <tr>\n",
       "      <th>69</th>\n",
       "      <td>2000</td>\n",
       "      <td>10.0</td>\n",
       "      <td>44.8</td>\n",
       "      <td>8824.4</td>\n",
       "      <td>7911.8</td>\n",
       "      <td>912.6</td>\n",
       "    </tr>\n",
       "    <tr>\n",
       "      <th>70</th>\n",
       "      <td>2001</td>\n",
       "      <td>8.4</td>\n",
       "      <td>41.1</td>\n",
       "      <td>8832.9</td>\n",
       "      <td>7952.9</td>\n",
       "      <td>880.0</td>\n",
       "    </tr>\n",
       "    <tr>\n",
       "      <th>71</th>\n",
       "      <td>2002</td>\n",
       "      <td>6.9</td>\n",
       "      <td>37.4</td>\n",
       "      <td>8839.8</td>\n",
       "      <td>7990.3</td>\n",
       "      <td>849.5</td>\n",
       "    </tr>\n",
       "    <tr>\n",
       "      <th>72</th>\n",
       "      <td>2003</td>\n",
       "      <td>3.2</td>\n",
       "      <td>34.5</td>\n",
       "      <td>8843.0</td>\n",
       "      <td>8024.8</td>\n",
       "      <td>818.2</td>\n",
       "    </tr>\n",
       "  </tbody>\n",
       "</table>\n",
       "<p>73 rows × 6 columns</p>\n",
       "</div>"
      ],
      "text/plain": [
       "    Year  A-Production  A-Released  T-Production  T-Released  T-Unreleased\n",
       "0   1931           NaN         NaN           NaN         NaN           NaN\n",
       "1   1932           NaN         NaN           NaN         NaN           NaN\n",
       "2   1933           NaN         NaN           NaN         NaN           NaN\n",
       "3   1934           NaN         NaN           NaN         NaN           NaN\n",
       "4   1935           0.0         0.0           0.1         0.0           0.1\n",
       "..   ...           ...         ...           ...         ...           ...\n",
       "68  1999          13.1        48.3        8814.4      7867.0         947.4\n",
       "69  2000          10.0        44.8        8824.4      7911.8         912.6\n",
       "70  2001           8.4        41.1        8832.9      7952.9         880.0\n",
       "71  2002           6.9        37.4        8839.8      7990.3         849.5\n",
       "72  2003           3.2        34.5        8843.0      8024.8         818.2\n",
       "\n",
       "[73 rows x 6 columns]"
      ]
     },
     "execution_count": 19,
     "metadata": {},
     "output_type": "execute_result"
    }
   ],
   "source": [
    "#question 3-1\n",
    "import pandas as pd\n",
    "from matplotlib import pyplot as plt\n",
    "met = pd.read_csv('/Users/violetxu/Documents/Jupyter/em-cfc-11.csv', header=0, low_memory=False)\n",
    "met"
   ]
  },
  {
   "cell_type": "code",
   "execution_count": 23,
   "id": "a110b480",
   "metadata": {},
   "outputs": [
    {
     "data": {
      "text/html": [
       "<div>\n",
       "<style scoped>\n",
       "    .dataframe tbody tr th:only-of-type {\n",
       "        vertical-align: middle;\n",
       "    }\n",
       "\n",
       "    .dataframe tbody tr th {\n",
       "        vertical-align: top;\n",
       "    }\n",
       "\n",
       "    .dataframe thead th {\n",
       "        text-align: right;\n",
       "    }\n",
       "</style>\n",
       "<table border=\"1\" class=\"dataframe\">\n",
       "  <thead>\n",
       "    <tr style=\"text-align: right;\">\n",
       "      <th></th>\n",
       "      <th>Year</th>\n",
       "      <th>A-Production</th>\n",
       "      <th>A-Released</th>\n",
       "      <th>T-Production</th>\n",
       "      <th>T-Released</th>\n",
       "      <th>T-Unreleased</th>\n",
       "    </tr>\n",
       "  </thead>\n",
       "  <tbody>\n",
       "    <tr>\n",
       "      <th>0</th>\n",
       "      <td>1931</td>\n",
       "      <td>0.0</td>\n",
       "      <td>0.0</td>\n",
       "      <td>0.0</td>\n",
       "      <td>0.0</td>\n",
       "      <td>0.0</td>\n",
       "    </tr>\n",
       "    <tr>\n",
       "      <th>1</th>\n",
       "      <td>1932</td>\n",
       "      <td>0.0</td>\n",
       "      <td>0.0</td>\n",
       "      <td>0.0</td>\n",
       "      <td>0.0</td>\n",
       "      <td>0.0</td>\n",
       "    </tr>\n",
       "    <tr>\n",
       "      <th>2</th>\n",
       "      <td>1933</td>\n",
       "      <td>0.0</td>\n",
       "      <td>0.0</td>\n",
       "      <td>0.0</td>\n",
       "      <td>0.0</td>\n",
       "      <td>0.0</td>\n",
       "    </tr>\n",
       "    <tr>\n",
       "      <th>3</th>\n",
       "      <td>1934</td>\n",
       "      <td>0.0</td>\n",
       "      <td>0.0</td>\n",
       "      <td>0.0</td>\n",
       "      <td>0.0</td>\n",
       "      <td>0.0</td>\n",
       "    </tr>\n",
       "    <tr>\n",
       "      <th>4</th>\n",
       "      <td>1935</td>\n",
       "      <td>0.0</td>\n",
       "      <td>0.0</td>\n",
       "      <td>0.1</td>\n",
       "      <td>0.0</td>\n",
       "      <td>0.1</td>\n",
       "    </tr>\n",
       "    <tr>\n",
       "      <th>...</th>\n",
       "      <td>...</td>\n",
       "      <td>...</td>\n",
       "      <td>...</td>\n",
       "      <td>...</td>\n",
       "      <td>...</td>\n",
       "      <td>...</td>\n",
       "    </tr>\n",
       "    <tr>\n",
       "      <th>68</th>\n",
       "      <td>1999</td>\n",
       "      <td>13.1</td>\n",
       "      <td>48.3</td>\n",
       "      <td>8814.4</td>\n",
       "      <td>7867.0</td>\n",
       "      <td>947.4</td>\n",
       "    </tr>\n",
       "    <tr>\n",
       "      <th>69</th>\n",
       "      <td>2000</td>\n",
       "      <td>10.0</td>\n",
       "      <td>44.8</td>\n",
       "      <td>8824.4</td>\n",
       "      <td>7911.8</td>\n",
       "      <td>912.6</td>\n",
       "    </tr>\n",
       "    <tr>\n",
       "      <th>70</th>\n",
       "      <td>2001</td>\n",
       "      <td>8.4</td>\n",
       "      <td>41.1</td>\n",
       "      <td>8832.9</td>\n",
       "      <td>7952.9</td>\n",
       "      <td>880.0</td>\n",
       "    </tr>\n",
       "    <tr>\n",
       "      <th>71</th>\n",
       "      <td>2002</td>\n",
       "      <td>6.9</td>\n",
       "      <td>37.4</td>\n",
       "      <td>8839.8</td>\n",
       "      <td>7990.3</td>\n",
       "      <td>849.5</td>\n",
       "    </tr>\n",
       "    <tr>\n",
       "      <th>72</th>\n",
       "      <td>2003</td>\n",
       "      <td>3.2</td>\n",
       "      <td>34.5</td>\n",
       "      <td>8843.0</td>\n",
       "      <td>8024.8</td>\n",
       "      <td>818.2</td>\n",
       "    </tr>\n",
       "  </tbody>\n",
       "</table>\n",
       "<p>73 rows × 6 columns</p>\n",
       "</div>"
      ],
      "text/plain": [
       "    Year  A-Production  A-Released  T-Production  T-Released  T-Unreleased\n",
       "0   1931           0.0         0.0           0.0         0.0           0.0\n",
       "1   1932           0.0         0.0           0.0         0.0           0.0\n",
       "2   1933           0.0         0.0           0.0         0.0           0.0\n",
       "3   1934           0.0         0.0           0.0         0.0           0.0\n",
       "4   1935           0.0         0.0           0.1         0.0           0.1\n",
       "..   ...           ...         ...           ...         ...           ...\n",
       "68  1999          13.1        48.3        8814.4      7867.0         947.4\n",
       "69  2000          10.0        44.8        8824.4      7911.8         912.6\n",
       "70  2001           8.4        41.1        8832.9      7952.9         880.0\n",
       "71  2002           6.9        37.4        8839.8      7990.3         849.5\n",
       "72  2003           3.2        34.5        8843.0      8024.8         818.2\n",
       "\n",
       "[73 rows x 6 columns]"
      ]
     },
     "execution_count": 23,
     "metadata": {},
     "output_type": "execute_result"
    }
   ],
   "source": [
    "# nan - 0\n",
    "met.fillna(0)"
   ]
  },
  {
   "cell_type": "code",
   "execution_count": 24,
   "id": "0a96ca14",
   "metadata": {},
   "outputs": [
    {
     "data": {
      "image/png": "[encoded data removed]",
      "text/plain": [
       "<Figure size 432x288 with 1 Axes>"
      ]
     },
     "metadata": {
      "needs_background": "light"
     },
     "output_type": "display_data"
    }
   ],
   "source": [
    "# question 3_1\n",
    "plt.plot(met['Year'], met['A-Released'])\n",
    "plt.show()"
   ]
  },
  {
   "cell_type": "code",
   "execution_count": 25,
   "id": "0f591139",
   "metadata": {},
   "outputs": [
    {
     "data": {
      "text/plain": [
       "Year            1974.0\n",
       "A-Production     375.3\n",
       "A-Released       321.4\n",
       "T-Production    3025.5\n",
       "T-Released      2554.0\n",
       "T-Unreleased     471.5\n",
       "Name: 43, dtype: float64"
      ]
     },
     "execution_count": 25,
     "metadata": {},
     "output_type": "execute_result"
    }
   ],
   "source": [
    "#question3_3\n",
    "maxrow = met['A-Released'].argmax()\n",
    "met.loc[maxrow]"
   ]
  },
  {
   "cell_type": "code",
   "execution_count": 29,
   "id": "e420799c",
   "metadata": {},
   "outputs": [
    {
     "data": {
      "text/plain": [
       "116.30000000000001"
      ]
     },
     "execution_count": 29,
     "metadata": {},
     "output_type": "execute_result"
    }
   ],
   "source": [
    "met['A-Released'].mean()"
   ]
  },
  {
   "cell_type": "code",
   "execution_count": 32,
   "id": "0fb98a27",
   "metadata": {},
   "outputs": [
    {
     "data": {
      "text/plain": [
       "321.4"
      ]
     },
     "execution_count": 32,
     "metadata": {},
     "output_type": "execute_result"
    }
   ],
   "source": [
    "met['A-Released'].max()"
   ]
  },
  {
   "cell_type": "code",
   "execution_count": 45,
   "id": "a0cef4fe",
   "metadata": {},
   "outputs": [
    {
     "data": {
      "text/plain": [
       "196767.3"
      ]
     },
     "execution_count": 45,
     "metadata": {},
     "output_type": "execute_result"
    }
   ],
   "source": [
    "met['T-Released'].sum()"
   ]
  },
  {
   "cell_type": "code",
   "execution_count": 46,
   "id": "893f3fc3",
   "metadata": {},
   "outputs": [
    {
     "data": {
      "text/html": [
       "<div>\n",
       "<style scoped>\n",
       "    .dataframe tbody tr th:only-of-type {\n",
       "        vertical-align: middle;\n",
       "    }\n",
       "\n",
       "    .dataframe tbody tr th {\n",
       "        vertical-align: top;\n",
       "    }\n",
       "\n",
       "    .dataframe thead th {\n",
       "        text-align: right;\n",
       "    }\n",
       "</style>\n",
       "<table border=\"1\" class=\"dataframe\">\n",
       "  <thead>\n",
       "    <tr style=\"text-align: right;\">\n",
       "      <th></th>\n",
       "      <th>Year</th>\n",
       "      <th>A-Production</th>\n",
       "      <th>A-Released</th>\n",
       "      <th>T-Production</th>\n",
       "      <th>T-Released</th>\n",
       "      <th>T-Unreleased</th>\n",
       "    </tr>\n",
       "  </thead>\n",
       "  <tbody>\n",
       "    <tr>\n",
       "      <th>43</th>\n",
       "      <td>1974</td>\n",
       "      <td>375.3</td>\n",
       "      <td>321.4</td>\n",
       "      <td>3025.5</td>\n",
       "      <td>2554.0</td>\n",
       "      <td>471.5</td>\n",
       "    </tr>\n",
       "    <tr>\n",
       "      <th>44</th>\n",
       "      <td>1975</td>\n",
       "      <td>318.8</td>\n",
       "      <td>310.9</td>\n",
       "      <td>3344.3</td>\n",
       "      <td>2864.9</td>\n",
       "      <td>479.4</td>\n",
       "    </tr>\n",
       "    <tr>\n",
       "      <th>45</th>\n",
       "      <td>1976</td>\n",
       "      <td>344.9</td>\n",
       "      <td>316.7</td>\n",
       "      <td>3689.2</td>\n",
       "      <td>3181.5</td>\n",
       "      <td>507.7</td>\n",
       "    </tr>\n",
       "    <tr>\n",
       "      <th>46</th>\n",
       "      <td>1977</td>\n",
       "      <td>325.3</td>\n",
       "      <td>303.9</td>\n",
       "      <td>4014.5</td>\n",
       "      <td>3485.5</td>\n",
       "      <td>529.0</td>\n",
       "    </tr>\n",
       "    <tr>\n",
       "      <th>56</th>\n",
       "      <td>1987</td>\n",
       "      <td>387.8</td>\n",
       "      <td>310.6</td>\n",
       "      <td>7170.6</td>\n",
       "      <td>6181.6</td>\n",
       "      <td>988.9</td>\n",
       "    </tr>\n",
       "    <tr>\n",
       "      <th>57</th>\n",
       "      <td>1988</td>\n",
       "      <td>381.6</td>\n",
       "      <td>314.5</td>\n",
       "      <td>7552.2</td>\n",
       "      <td>6496.2</td>\n",
       "      <td>1056.0</td>\n",
       "    </tr>\n",
       "  </tbody>\n",
       "</table>\n",
       "</div>"
      ],
      "text/plain": [
       "    Year  A-Production  A-Released  T-Production  T-Released  T-Unreleased\n",
       "43  1974         375.3       321.4        3025.5      2554.0         471.5\n",
       "44  1975         318.8       310.9        3344.3      2864.9         479.4\n",
       "45  1976         344.9       316.7        3689.2      3181.5         507.7\n",
       "46  1977         325.3       303.9        4014.5      3485.5         529.0\n",
       "56  1987         387.8       310.6        7170.6      6181.6         988.9\n",
       "57  1988         381.6       314.5        7552.2      6496.2        1056.0"
      ]
     },
     "execution_count": 46,
     "metadata": {},
     "output_type": "execute_result"
    }
   ],
   "source": [
    "met1 = met.loc[(met['A-Released']>300)]\n",
    "met1"
   ]
  },
  {
   "cell_type": "code",
   "execution_count": 49,
   "id": "f1cdf80e",
   "metadata": {},
   "outputs": [
    {
     "name": "stdout",
     "output_type": "stream",
     "text": [
      "   Year  A-Production  A-Released  T-Production  T-Released  T-Unreleased\n",
      "0  1974         375.3       321.4        3025.5      2554.0         471.5\n",
      "1  1976         344.9       316.7        3689.2      3181.5         507.7\n",
      "2  1988         381.6       314.5        7552.2      6496.2        1056.0\n",
      "3  1975         318.8       310.9        3344.3      2864.9         479.4\n",
      "4  1987         387.8       310.6        7170.6      6181.6         988.9\n",
      "5  1977         325.3       303.9        4014.5      3485.5         529.0\n",
      "6  1986         355.4       295.1        6782.8      5871.1         911.7\n",
      "7  1973         354.3       292.4        2650.2      2232.5         417.7\n",
      "8  1978         313.5       283.6        4328.0      3769.1         558.9\n",
      "9  1985         331.7       280.8        6427.4      5576.0         851.4\n"
     ]
    }
   ],
   "source": [
    "met = met.sort_values(['A-Released'], ascending=[0]).reset_index(drop=True)\n",
    "print(met.head(10))"
   ]
  },
  {
   "cell_type": "code",
   "execution_count": null,
   "id": "6a58efe2",
   "metadata": {},
   "outputs": [],
   "source": []
  }
 ],
 "metadata": {
  "kernelspec": {
   "display_name": "Python 3",
   "language": "python",
   "name": "python3"
  },
  "language_info": {
   "codemirror_mode": {
    "name": "ipython",
    "version": 3
   },
   "file_extension": ".py",
   "mimetype": "text/x-python",
   "name": "python",
   "nbconvert_exporter": "python",
   "pygments_lexer": "ipython3",
   "version": "3.8.8"
  }
 },
 "nbformat": 4,
 "nbformat_minor": 5
}
